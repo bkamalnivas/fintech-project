{
 "cells": [
  {
   "cell_type": "markdown",
   "id": "6557ba4d",
   "metadata": {},
   "source": [
    "### Profitable Algorithmic Trading"
   ]
  },
  {
   "cell_type": "code",
   "execution_count": 3,
   "id": "f2fefab7",
   "metadata": {},
   "outputs": [],
   "source": [
    "# Import the required libraries\n",
    "import pandas as pd\n",
    "import numpy as np\n",
    "from pathlib import Path"
   ]
  },
  {
   "cell_type": "code",
   "execution_count": 4,
   "id": "fba1db53",
   "metadata": {},
   "outputs": [
    {
     "data": {
      "text/html": [
       "<div>\n",
       "<style scoped>\n",
       "    .dataframe tbody tr th:only-of-type {\n",
       "        vertical-align: middle;\n",
       "    }\n",
       "\n",
       "    .dataframe tbody tr th {\n",
       "        vertical-align: top;\n",
       "    }\n",
       "\n",
       "    .dataframe thead th {\n",
       "        text-align: right;\n",
       "    }\n",
       "</style>\n",
       "<table border=\"1\" class=\"dataframe\">\n",
       "  <thead>\n",
       "    <tr style=\"text-align: right;\">\n",
       "      <th></th>\n",
       "      <th>Open</th>\n",
       "      <th>High</th>\n",
       "      <th>Low</th>\n",
       "      <th>Close</th>\n",
       "      <th>Adj Close</th>\n",
       "      <th>Volume</th>\n",
       "    </tr>\n",
       "    <tr>\n",
       "      <th>Date</th>\n",
       "      <th></th>\n",
       "      <th></th>\n",
       "      <th></th>\n",
       "      <th></th>\n",
       "      <th></th>\n",
       "      <th></th>\n",
       "    </tr>\n",
       "  </thead>\n",
       "  <tbody>\n",
       "    <tr>\n",
       "      <th>2020-07-27</th>\n",
       "      <td>93.709999</td>\n",
       "      <td>94.904999</td>\n",
       "      <td>93.480003</td>\n",
       "      <td>94.809998</td>\n",
       "      <td>93.640457</td>\n",
       "      <td>121214000</td>\n",
       "    </tr>\n",
       "    <tr>\n",
       "      <th>2020-07-28</th>\n",
       "      <td>94.367500</td>\n",
       "      <td>94.550003</td>\n",
       "      <td>93.247498</td>\n",
       "      <td>93.252502</td>\n",
       "      <td>92.102150</td>\n",
       "      <td>103625600</td>\n",
       "    </tr>\n",
       "    <tr>\n",
       "      <th>2020-07-29</th>\n",
       "      <td>93.750000</td>\n",
       "      <td>95.230003</td>\n",
       "      <td>93.712502</td>\n",
       "      <td>95.040001</td>\n",
       "      <td>93.867607</td>\n",
       "      <td>90329200</td>\n",
       "    </tr>\n",
       "    <tr>\n",
       "      <th>2020-07-30</th>\n",
       "      <td>94.187500</td>\n",
       "      <td>96.297501</td>\n",
       "      <td>93.767502</td>\n",
       "      <td>96.190002</td>\n",
       "      <td>95.003426</td>\n",
       "      <td>158130000</td>\n",
       "    </tr>\n",
       "    <tr>\n",
       "      <th>2020-07-31</th>\n",
       "      <td>102.885002</td>\n",
       "      <td>106.415001</td>\n",
       "      <td>100.824997</td>\n",
       "      <td>106.260002</td>\n",
       "      <td>104.949219</td>\n",
       "      <td>374336800</td>\n",
       "    </tr>\n",
       "  </tbody>\n",
       "</table>\n",
       "</div>"
      ],
      "text/plain": [
       "                  Open        High         Low       Close   Adj Close  \\\n",
       "Date                                                                     \n",
       "2020-07-27   93.709999   94.904999   93.480003   94.809998   93.640457   \n",
       "2020-07-28   94.367500   94.550003   93.247498   93.252502   92.102150   \n",
       "2020-07-29   93.750000   95.230003   93.712502   95.040001   93.867607   \n",
       "2020-07-30   94.187500   96.297501   93.767502   96.190002   95.003426   \n",
       "2020-07-31  102.885002  106.415001  100.824997  106.260002  104.949219   \n",
       "\n",
       "               Volume  \n",
       "Date                   \n",
       "2020-07-27  121214000  \n",
       "2020-07-28  103625600  \n",
       "2020-07-29   90329200  \n",
       "2020-07-30  158130000  \n",
       "2020-07-31  374336800  "
      ]
     },
     "execution_count": 4,
     "metadata": {},
     "output_type": "execute_result"
    }
   ],
   "source": [
    "# Read the vnq.csv file from the Resources folder into a Pandas DataFrame\n",
    "# Set the `Date` column as the DateTimeIndex\n",
    "trading_df = pd.read_csv(\n",
    "    Path(\"Resources/NASDQ 100 Tickers (7.25)/AAPL.csv\"), \n",
    "    index_col=\"Date\",\n",
    "    parse_dates=True, \n",
    "    infer_datetime_format=True\n",
    ")\n",
    "\n",
    "# Review the DataFrame\n",
    "trading_df.head()"
   ]
  },
  {
   "cell_type": "code",
   "execution_count": 5,
   "id": "209de4c5",
   "metadata": {},
   "outputs": [
    {
     "data": {
      "text/html": [
       "<div>\n",
       "<style scoped>\n",
       "    .dataframe tbody tr th:only-of-type {\n",
       "        vertical-align: middle;\n",
       "    }\n",
       "\n",
       "    .dataframe tbody tr th {\n",
       "        vertical-align: top;\n",
       "    }\n",
       "\n",
       "    .dataframe thead th {\n",
       "        text-align: right;\n",
       "    }\n",
       "</style>\n",
       "<table border=\"1\" class=\"dataframe\">\n",
       "  <thead>\n",
       "    <tr style=\"text-align: right;\">\n",
       "      <th></th>\n",
       "      <th>Close</th>\n",
       "    </tr>\n",
       "    <tr>\n",
       "      <th>Date</th>\n",
       "      <th></th>\n",
       "    </tr>\n",
       "  </thead>\n",
       "  <tbody>\n",
       "    <tr>\n",
       "      <th>2020-07-27</th>\n",
       "      <td>94.809998</td>\n",
       "    </tr>\n",
       "    <tr>\n",
       "      <th>2020-07-28</th>\n",
       "      <td>93.252502</td>\n",
       "    </tr>\n",
       "    <tr>\n",
       "      <th>2020-07-29</th>\n",
       "      <td>95.040001</td>\n",
       "    </tr>\n",
       "    <tr>\n",
       "      <th>2020-07-30</th>\n",
       "      <td>96.190002</td>\n",
       "    </tr>\n",
       "    <tr>\n",
       "      <th>2020-07-31</th>\n",
       "      <td>106.260002</td>\n",
       "    </tr>\n",
       "  </tbody>\n",
       "</table>\n",
       "</div>"
      ],
      "text/plain": [
       "                 Close\n",
       "Date                  \n",
       "2020-07-27   94.809998\n",
       "2020-07-28   93.252502\n",
       "2020-07-29   95.040001\n",
       "2020-07-30   96.190002\n",
       "2020-07-31  106.260002"
      ]
     },
     "execution_count": 5,
     "metadata": {},
     "output_type": "execute_result"
    }
   ],
   "source": [
    "# Create a DataFrame filtering only the index and Close columns\n",
    "signals_df = trading_df.loc[:,[\"Close\"]]\n",
    "\n",
    "# Review the DataFrame\n",
    "signals_df.head()"
   ]
  },
  {
   "cell_type": "code",
   "execution_count": 6,
   "id": "1c623b47",
   "metadata": {},
   "outputs": [
    {
     "name": "stderr",
     "output_type": "stream",
     "text": [
      "\n",
      "Bad key savefig.frameon in file C:\\Users\\John\\anaconda3\\envs\\dev\\lib\\site-packages\\matplotlib\\mpl-data\\stylelib\\_classic_test.mplstyle, line 421 ('savefig.frameon : True')\n",
      "You probably need to get an updated matplotlibrc file from\n",
      "https://github.com/matplotlib/matplotlib/blob/v3.3.1/matplotlibrc.template\n",
      "or from the matplotlib source distribution\n",
      "\n",
      "Bad key verbose.level in file C:\\Users\\John\\anaconda3\\envs\\dev\\lib\\site-packages\\matplotlib\\mpl-data\\stylelib\\_classic_test.mplstyle, line 472 ('verbose.level  : silent      # one of silent, helpful, debug, debug-annoying')\n",
      "You probably need to get an updated matplotlibrc file from\n",
      "https://github.com/matplotlib/matplotlib/blob/v3.3.1/matplotlibrc.template\n",
      "or from the matplotlib source distribution\n",
      "\n",
      "Bad key verbose.fileo in file C:\\Users\\John\\anaconda3\\envs\\dev\\lib\\site-packages\\matplotlib\\mpl-data\\stylelib\\_classic_test.mplstyle, line 473 ('verbose.fileo  : sys.stdout  # a log filename, sys.stdout or sys.stderr')\n",
      "You probably need to get an updated matplotlibrc file from\n",
      "https://github.com/matplotlib/matplotlib/blob/v3.3.1/matplotlibrc.template\n",
      "or from the matplotlib source distribution\n",
      "In C:\\Users\\John\\anaconda3\\envs\\dev\\lib\\site-packages\\matplotlib\\mpl-data\\stylelib\\_classic_test.mplstyle: \n",
      "The text.latex.preview rcparam was deprecated in Matplotlib 3.3 and will be removed two minor releases later.\n",
      "In C:\\Users\\John\\anaconda3\\envs\\dev\\lib\\site-packages\\matplotlib\\mpl-data\\stylelib\\_classic_test.mplstyle: \n",
      "The mathtext.fallback_to_cm rcparam was deprecated in Matplotlib 3.3 and will be removed two minor releases later.\n",
      "In C:\\Users\\John\\anaconda3\\envs\\dev\\lib\\site-packages\\matplotlib\\mpl-data\\stylelib\\_classic_test.mplstyle: Support for setting the 'mathtext.fallback_to_cm' rcParam is deprecated since 3.3 and will be removed two minor releases later; use 'mathtext.fallback : 'cm' instead.\n",
      "In C:\\Users\\John\\anaconda3\\envs\\dev\\lib\\site-packages\\matplotlib\\mpl-data\\stylelib\\_classic_test.mplstyle: \n",
      "The validate_bool_maybe_none function was deprecated in Matplotlib 3.3 and will be removed two minor releases later.\n",
      "In C:\\Users\\John\\anaconda3\\envs\\dev\\lib\\site-packages\\matplotlib\\mpl-data\\stylelib\\_classic_test.mplstyle: \n",
      "The savefig.jpeg_quality rcparam was deprecated in Matplotlib 3.3 and will be removed two minor releases later.\n",
      "In C:\\Users\\John\\anaconda3\\envs\\dev\\lib\\site-packages\\matplotlib\\mpl-data\\stylelib\\_classic_test.mplstyle: \n",
      "The keymap.all_axes rcparam was deprecated in Matplotlib 3.3 and will be removed two minor releases later.\n",
      "In C:\\Users\\John\\anaconda3\\envs\\dev\\lib\\site-packages\\matplotlib\\mpl-data\\stylelib\\_classic_test.mplstyle: \n",
      "The animation.avconv_path rcparam was deprecated in Matplotlib 3.3 and will be removed two minor releases later.\n",
      "In C:\\Users\\John\\anaconda3\\envs\\dev\\lib\\site-packages\\matplotlib\\mpl-data\\stylelib\\_classic_test.mplstyle: \n",
      "The animation.avconv_args rcparam was deprecated in Matplotlib 3.3 and will be removed two minor releases later.\n"
     ]
    },
    {
     "data": {
      "text/plain": [
       "<AxesSubplot:xlabel='Date'>"
      ]
     },
     "execution_count": 6,
     "metadata": {},
     "output_type": "execute_result"
    },
    {
     "data": {
      "image/png": "[encoded data removed]",
      "text/plain": [
       "<Figure size 432x288 with 1 Axes>"
      ]
     },
     "metadata": {
      "needs_background": "light"
     },
     "output_type": "display_data"
    }
   ],
   "source": [
    "signals_df.plot()"
   ]
  },
  {
   "cell_type": "markdown",
   "id": "8d9077b2",
   "metadata": {},
   "source": [
    "### Trading Algorithm Definition"
   ]
  },
  {
   "cell_type": "code",
   "execution_count": 7,
   "id": "31e0cb09",
   "metadata": {},
   "outputs": [],
   "source": [
    "# Initialize trade_type column for buys and sells\n",
    "signals_df['trade_type'] = np.nan\n",
    "\n",
    "# Initialize variable to hold the previous_price\n",
    "previous_price = 0\n",
    "\n",
    "\n",
    "# Initialize a cost/proceeds column for recording trade metrics\n",
    "signals_df[\"cost/proceeds\"] = np.nan\n",
    "\n",
    "# Initialize share_size equals 100 and accumulated_shares equals 0\n",
    "share_size = 100\n",
    "accumulated_shares = 0"
   ]
  },
  {
   "cell_type": "code",
   "execution_count": 12,
   "id": "597cc6b2",
   "metadata": {},
   "outputs": [],
   "source": [
    "# Loop through the Pandas DataFrame and code the conditions of the trading strategy \n",
    "for index, row in signals_df.iterrows():\n",
    "    \n",
    "    # buy if the previous price is 0, in other words, buy on the first day\n",
    "    # set the cost/proceeds column equal to the negative value of the row close price\n",
    "    # multiplied by the share_size\n",
    "    if previous_price == 0:\n",
    "        signals_df.loc[index, \"trade_type\"] = \"buy\"\n",
    "        signals_df.loc[index, \"cost/proceeds\"] = -(row[\"Close\"] * share_size)\n",
    "        accumulated_shares += share_size\n",
    "\n",
    "    # buy if the current day price is less than the previous day price\n",
    "    # set the cost/proceeds column equal to the negative value of the row close price\n",
    "    # multiplied by the share_size\n",
    "    elif row[\"Close\"] < previous_price:\n",
    "        signals_df.loc[index, \"trade_type\"] = \"buy\"\n",
    "        signals_df.loc[index, \"cost/proceeds\"] = -(row[\"Close\"] * share_size)\n",
    "        accumulated_shares += share_size\n",
    "    \n",
    "    # sell if the current day price is greater than the previous day price\n",
    "    elif row[\"Close\"] > previous_price:\n",
    "        signals_df.loc[index, \"trade_type\"] = \"sell\"\n",
    "\n",
    "    # else hold if the current day price is equal to the previous day price\n",
    "    else:\n",
    "        signals_df.loc[index, \"trade_type\"] = \"hold\"\n",
    "    \n",
    "    # set the previous_price variable to the close price of the current row\n",
    "    previous_price = row[\"Close\"]\n",
    "    \n",
    "    # if the index is the last index of the Dataframe, sell\n",
    "    # set the cost/proceeds column equal to the row close price multiplied \n",
    "    # by the accumulated_shares\n",
    "    if index == signals_df.index[-1]:\n",
    "        signals_df.loc[index, \"trade_type\"] = \"sell\"\n",
    "        signals_df.loc[index, \"cost/proceeds\"] = row[\"Close\"] * accumulated_shares\n"
   ]
  },
  {
   "cell_type": "markdown",
   "id": "2f6191eb",
   "metadata": {},
   "source": [
    "### Profitability Assessment"
   ]
  },
  {
   "cell_type": "code",
   "execution_count": 13,
   "id": "c2042b7a",
   "metadata": {},
   "outputs": [
    {
     "data": {
      "text/html": [
       "<div>\n",
       "<style scoped>\n",
       "    .dataframe tbody tr th:only-of-type {\n",
       "        vertical-align: middle;\n",
       "    }\n",
       "\n",
       "    .dataframe tbody tr th {\n",
       "        vertical-align: top;\n",
       "    }\n",
       "\n",
       "    .dataframe thead th {\n",
       "        text-align: right;\n",
       "    }\n",
       "</style>\n",
       "<table border=\"1\" class=\"dataframe\">\n",
       "  <thead>\n",
       "    <tr style=\"text-align: right;\">\n",
       "      <th></th>\n",
       "      <th>Close</th>\n",
       "      <th>trade_type</th>\n",
       "      <th>cost/proceeds</th>\n",
       "    </tr>\n",
       "    <tr>\n",
       "      <th>Date</th>\n",
       "      <th></th>\n",
       "      <th></th>\n",
       "      <th></th>\n",
       "    </tr>\n",
       "  </thead>\n",
       "  <tbody>\n",
       "    <tr>\n",
       "      <th>2020-07-27</th>\n",
       "      <td>94.809998</td>\n",
       "      <td>hold</td>\n",
       "      <td>-9.481000e+03</td>\n",
       "    </tr>\n",
       "    <tr>\n",
       "      <th>2020-07-28</th>\n",
       "      <td>93.252502</td>\n",
       "      <td>buy</td>\n",
       "      <td>-9.325250e+03</td>\n",
       "    </tr>\n",
       "    <tr>\n",
       "      <th>2020-07-29</th>\n",
       "      <td>95.040001</td>\n",
       "      <td>sell</td>\n",
       "      <td>NaN</td>\n",
       "    </tr>\n",
       "    <tr>\n",
       "      <th>2020-07-30</th>\n",
       "      <td>96.190002</td>\n",
       "      <td>sell</td>\n",
       "      <td>NaN</td>\n",
       "    </tr>\n",
       "    <tr>\n",
       "      <th>2020-07-31</th>\n",
       "      <td>106.260002</td>\n",
       "      <td>sell</td>\n",
       "      <td>NaN</td>\n",
       "    </tr>\n",
       "    <tr>\n",
       "      <th>...</th>\n",
       "      <td>...</td>\n",
       "      <td>...</td>\n",
       "      <td>...</td>\n",
       "    </tr>\n",
       "    <tr>\n",
       "      <th>2022-07-18</th>\n",
       "      <td>147.070007</td>\n",
       "      <td>buy</td>\n",
       "      <td>-1.470700e+04</td>\n",
       "    </tr>\n",
       "    <tr>\n",
       "      <th>2022-07-19</th>\n",
       "      <td>151.000000</td>\n",
       "      <td>sell</td>\n",
       "      <td>NaN</td>\n",
       "    </tr>\n",
       "    <tr>\n",
       "      <th>2022-07-20</th>\n",
       "      <td>153.039993</td>\n",
       "      <td>sell</td>\n",
       "      <td>NaN</td>\n",
       "    </tr>\n",
       "    <tr>\n",
       "      <th>2022-07-21</th>\n",
       "      <td>155.350006</td>\n",
       "      <td>sell</td>\n",
       "      <td>NaN</td>\n",
       "    </tr>\n",
       "    <tr>\n",
       "      <th>2022-07-22</th>\n",
       "      <td>154.089996</td>\n",
       "      <td>sell</td>\n",
       "      <td>3.682751e+06</td>\n",
       "    </tr>\n",
       "  </tbody>\n",
       "</table>\n",
       "<p>502 rows × 3 columns</p>\n",
       "</div>"
      ],
      "text/plain": [
       "                 Close trade_type  cost/proceeds\n",
       "Date                                            \n",
       "2020-07-27   94.809998       hold  -9.481000e+03\n",
       "2020-07-28   93.252502        buy  -9.325250e+03\n",
       "2020-07-29   95.040001       sell            NaN\n",
       "2020-07-30   96.190002       sell            NaN\n",
       "2020-07-31  106.260002       sell            NaN\n",
       "...                ...        ...            ...\n",
       "2022-07-18  147.070007        buy  -1.470700e+04\n",
       "2022-07-19  151.000000       sell            NaN\n",
       "2022-07-20  153.039993       sell            NaN\n",
       "2022-07-21  155.350006       sell            NaN\n",
       "2022-07-22  154.089996       sell   3.682751e+06\n",
       "\n",
       "[502 rows x 3 columns]"
      ]
     },
     "execution_count": 13,
     "metadata": {},
     "output_type": "execute_result"
    }
   ],
   "source": [
    "signals_df"
   ]
  },
  {
   "cell_type": "code",
   "execution_count": 14,
   "id": "c73b6524",
   "metadata": {},
   "outputs": [
    {
     "name": "stdout",
     "output_type": "stream",
     "text": [
      "The total profit/loss of the trading strategy is $358493.15.\n"
     ]
    }
   ],
   "source": [
    "# Calculate the total profit/loss for 100 share size orders\n",
    "total_profit_loss = round(signals_df[\"cost/proceeds\"].sum(), 2)\n",
    "\n",
    "# Print the profit/loss metrics\n",
    "print(f\"The total profit/loss of the trading strategy is ${total_profit_loss}.\")"
   ]
  },
  {
   "cell_type": "code",
   "execution_count": 15,
   "id": "e94bfff2",
   "metadata": {},
   "outputs": [],
   "source": [
    "# Initialize the variable to hold the value of the invested capital\n",
    "invested_capital = 0"
   ]
  },
  {
   "cell_type": "code",
   "execution_count": 17,
   "id": "8c5382b0",
   "metadata": {},
   "outputs": [],
   "source": [
    "# Calculate the invested capital by adding the cost of all buy trades\n",
    "for index, row in signals_df.iterrows():\n",
    "    if row[\"trade_type\"] == \"buy\":\n",
    "        invested_capital = invested_capital + row[\"cost/proceeds\"]"
   ]
  },
  {
   "cell_type": "code",
   "execution_count": 18,
   "id": "c82bbeb0",
   "metadata": {},
   "outputs": [
    {
     "name": "stdout",
     "output_type": "stream",
     "text": [
      "The trading algorithm resulted in a return on investment of 10.82%\n"
     ]
    }
   ],
   "source": [
    "# Calculate the return on investment (ROI)\n",
    "roi = round((total_profit_loss / -(invested_capital)) * 100, 2)\n",
    "         \n",
    "# Print the ROI\n",
    "print(f\"The trading algorithm resulted in a return on investment of {roi}%\")"
   ]
  },
  {
   "cell_type": "code",
   "execution_count": null,
   "id": "2b0224e0",
   "metadata": {},
   "outputs": [],
   "source": []
  }
 ],
 "metadata": {
  "kernelspec": {
   "display_name": "Python [conda env:dev] *",
   "language": "python",
   "name": "conda-env-dev-py"
  },
  "language_info": {
   "codemirror_mode": {
    "name": "ipython",
    "version": 3
   },
   "file_extension": ".py",
   "mimetype": "text/x-python",
   "name": "python",
   "nbconvert_exporter": "python",
   "pygments_lexer": "ipython3",
   "version": "3.7.11"
  }
 },
 "nbformat": 4,
 "nbformat_minor": 5
}
